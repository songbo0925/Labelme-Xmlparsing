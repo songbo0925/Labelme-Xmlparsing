{
 "cells": [
  {
   "cell_type": "code",
   "execution_count": 5,
   "metadata": {},
   "outputs": [
    {
     "data": {
      "text/plain": [
       "True"
      ]
     },
     "execution_count": 5,
     "metadata": {},
     "output_type": "execute_result"
    }
   ],
   "source": [
    "import os\n",
    "import cv2\n",
    "\n",
    "pth = \"./img/1.jpg\"\n",
    "image = cv2.imread(pth)           \n",
    "cropImg = image[309:580, 659:746]\n",
    "cv2.imwrite(\"./img/1_out.jpg\",cropImg)\n"
   ]
  },
  {
   "cell_type": "code",
   "execution_count": 6,
   "metadata": {},
   "outputs": [
    {
     "name": "stdout",
     "output_type": "stream",
     "text": [
      "./default/frame_000000.xml\n",
      "processed file number is  1\n",
      "box : 0\n",
      "person : 1\n"
     ]
    }
   ],
   "source": [
    "#coding:utf-8\n",
    "import os.path\n",
    "import xml.dom.minidom\n",
    "\n",
    "class_nums = {\"box\": 0, \"person\": 0}\n",
    "n = 0\n",
    "xmlfile = \"./default/frame_000000.xml\"\n",
    "\n",
    "print(xmlfile)\n",
    "# 打开xml文件\n",
    "dom = xml.dom.minidom.parse(xmlfile)\n",
    "# 获得元素对象\n",
    "root = dom.documentElement\n",
    "name_length = len(root.getElementsByTagName('name'))\n",
    "# 获取标签对name之间的值\n",
    "for i in range(name_length):\n",
    "    key = str(root.getElementsByTagName('name')[i].firstChild.data)\n",
    "      #print(key)\n",
    "    if key in class_nums.keys():\n",
    "        class_nums[key] += 1\n",
    " # print('node', root.getElementsByTagName('filename')[0].firstChild.data)\n",
    " # print('node', filename.firstChild.data)\n",
    "n += 1\n",
    "print('processed file number is ', n)\n",
    "for key in class_nums:\n",
    "    print(key, ':', class_nums[key])"
   ]
  },
  {
   "cell_type": "code",
   "execution_count": null,
   "metadata": {},
   "outputs": [],
   "source": []
  }
 ],
 "metadata": {
  "kernelspec": {
   "display_name": "python36",
   "language": "python",
   "name": "python36"
  },
  "language_info": {
   "codemirror_mode": {
    "name": "ipython",
    "version": 3
   },
   "file_extension": ".py",
   "mimetype": "text/x-python",
   "name": "python",
   "nbconvert_exporter": "python",
   "pygments_lexer": "ipython3",
   "version": "3.6.6"
  }
 },
 "nbformat": 4,
 "nbformat_minor": 2
}
